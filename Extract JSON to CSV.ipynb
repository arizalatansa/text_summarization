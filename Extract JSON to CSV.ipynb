{
 "cells": [
  {
   "cell_type": "code",
   "execution_count": 34,
   "metadata": {},
   "outputs": [],
   "source": [
    "import os\n",
    "import json\n",
    "import pandas as pd\n",
    "import ast\n",
    "import shutil\n",
    "import tarfile\n",
    "import re"
   ]
  },
  {
   "cell_type": "code",
   "execution_count": 17,
   "metadata": {},
   "outputs": [],
   "source": [
    "def count_files(path):\n",
    "  files = [f for f in os.listdir(path) if os.path.isfile(os.path.join(path, f))]\n",
    "  total_files = len(files)\n",
    "  return total_files"
   ]
  },
  {
   "cell_type": "code",
   "execution_count": 18,
   "metadata": {},
   "outputs": [],
   "source": [
    "test_path = r'C:\\\\Users\\\\Admin\\\\OneDrive\\\\ILMU\\\\DATA SCIENCE\\\\PORTOFOLIO\\\\Text Summarization - Indonesia AI\\\\liputan6_data\\\\canonical\\\\dev'\n",
    "dev_path = r'C:\\\\Users\\\\Admin\\\\OneDrive\\\\ILMU\\\\DATA SCIENCE\\\\PORTOFOLIO\\\\Text Summarization - Indonesia AI\\\\liputan6_data\\\\canonical\\\\test'\n",
    "train_path = r'C:\\\\Users\\\\Admin\\\\OneDrive\\\\ILMU\\\\DATA SCIENCE\\\\PORTOFOLIO\\\\Text Summarization - Indonesia AI\\\\liputan6_data\\\\canonical\\\\train'"
   ]
  },
  {
   "cell_type": "code",
   "execution_count": 20,
   "metadata": {},
   "outputs": [],
   "source": [
    "count_test = count_files(test_path)\n",
    "count_dev = count_files(dev_path)\n",
    "count_train = count_files(train_path)"
   ]
  },
  {
   "cell_type": "code",
   "execution_count": 21,
   "metadata": {},
   "outputs": [
    {
     "data": {
      "text/plain": [
       "10972"
      ]
     },
     "metadata": {},
     "output_type": "display_data"
    },
    {
     "data": {
      "text/plain": [
       "10972"
      ]
     },
     "metadata": {},
     "output_type": "display_data"
    },
    {
     "data": {
      "text/plain": [
       "193883"
      ]
     },
     "metadata": {},
     "output_type": "display_data"
    }
   ],
   "source": [
    "display(count_test)\n",
    "display(count_dev)\n",
    "display(count_train)"
   ]
  },
  {
   "cell_type": "code",
   "execution_count": 22,
   "metadata": {},
   "outputs": [],
   "source": [
    "def extract_data_from_folder(folder_path):\n",
    "    data_dict_list = []\n",
    "\n",
    "    # Mendapatkan daftar file dalam folder\n",
    "    file_list = os.listdir(folder_path)\n",
    "\n",
    "    for file_name in file_list:\n",
    "        if file_name.endswith('.json'):\n",
    "            file_path = os.path.join(folder_path, file_name)\n",
    "\n",
    "            # Membaca file JSON\n",
    "            with open(file_path, 'r', encoding='utf-8') as file:\n",
    "                data = json.load(file)\n",
    "\n",
    "                # Mengambil clean_article, clean_summary, dan extractive_summary\n",
    "                clean_article = ' '.join(map(str, data.get('clean_article', []))).strip()\n",
    "                clean_summary = ' '.join(map(str, data.get('clean_summary', []))).strip()\n",
    "                extractive_summary = ' '.join(map(str, data.get('extractive_summary', []))).strip()\n",
    "\n",
    "                # Menambahkan ke dictionary\n",
    "                data_dict = {\n",
    "                    'clean_article': clean_article,\n",
    "                    'clean_summary': clean_summary,\n",
    "                    'extractive_summary': extractive_summary\n",
    "                }\n",
    "\n",
    "                data_dict_list.append(data_dict)\n",
    "\n",
    "    return data_dict_list\n",
    "\n",
    "\n",
    "def extract_json_file(folder_path):\n",
    "    converted_data = []\n",
    "\n",
    "    # Loop through each file in the folder\n",
    "    for filename in os.listdir(folder_path):\n",
    "        if filename.endswith(\".json\"):\n",
    "            file_path = os.path.join(folder_path, filename)\n",
    "\n",
    "            # Read JSON file\n",
    "            with open(file_path, 'r') as file:\n",
    "                data = json.load(file)\n",
    "\n",
    "            # Convert data format\n",
    "            converted_item = {\n",
    "                'clean_article': ' '.join([' '.join(sentence) for sentence in data['clean_article']]),\n",
    "                'clean_summary': ' '.join([' '.join(sentence) for sentence in data['clean_summary']])\n",
    "            }\n",
    "\n",
    "            # Append to the result list\n",
    "            converted_data.append(converted_item)\n",
    "\n",
    "    return converted_data"
   ]
  },
  {
   "cell_type": "code",
   "execution_count": 24,
   "metadata": {},
   "outputs": [],
   "source": [
    "test = extract_json_file(test_path)"
   ]
  },
  {
   "cell_type": "code",
   "execution_count": 25,
   "metadata": {},
   "outputs": [],
   "source": [
    "dev = extract_json_file(dev_path)"
   ]
  },
  {
   "cell_type": "code",
   "execution_count": 26,
   "metadata": {},
   "outputs": [],
   "source": [
    "\n",
    "train = extract_json_file(train_path)"
   ]
  },
  {
   "cell_type": "code",
   "execution_count": 27,
   "metadata": {},
   "outputs": [
    {
     "name": "stdout",
     "output_type": "stream",
     "text": [
      "{'clean_article': 'Liputan6 . com , Jakarta : Diperkirakan 11 juta penduduk Indonesia positif terjangkit virus Hepatitis B . Bahkan , sepertiga di antaranya penderita kronis aktif yang bisa berakibat pengerasan hati dan kanker hati . Alhasil , satu dari 20 orang Indonesia diperkirakan menderita penyakit yang mematikan itu . Penegasan ini disampaikan Dr Udin Gunawan dari Perkumpulan Peneliti Hati Indonesia atau PPHI , baru-baru ini , di Jakarta . Dikatakan Udin , besarnya angka tersebut disebabkan rendahnya kesadaran masyarakat menjaga kesehatan dan minimnya pengetahuan masyarakat terhadap penyakit mematikan itu . Apalagi , gejala penyakit ini seringkali tak kelihatan dan baru dapat terdeteksi tiga sampai enam bulan setelah kontak dengan penderita terjadi . Karena itu , Udin meminta masyarakat melakukan deteksi dini terhadap penyebaran penyakit tersebut . Caranya , dengan melihat gejala klinis yang muncul , seperti merasa lemas , lelah , mual , kehilangan nafsu makan dan warna air kencing coklat . Sedangkan , cara penularannya sama dengan HIV . ( AWD/Insan Kamil dan Julianus ) .', 'clean_summary': 'Satu dari 20 orang Indonesia diperkirakan mengidap Hepatitis B . Tingginya angka tersebut lantaran rendahnya kesadaran dan pengetahuan tentang penyakit itu .'}\n",
      "{'clean_article': 'Liputan6 . com , Jakarta : Bank Indonesia dinilai masih akan menghadapi situasi sulit kendati Bank Sentral Amerika Serikat ( The FED ) terus menurunkan tingkat suku bunga yang dimiliki . Penilaian itu dikemukakan pengamat ekonomi Didiek J . Rachbini , di Jakarta , baru-baru ini . Menurut perhitungan Didiek , dalam tahun ini , The FED telah lima kali menurunkan nilai suku bunga yang mereka miliki . Bahkan , Didiek memperkirakan , tingkat suku bunga The FED akan diturunkan hingga menjadi empat persen . Dengan keadaan itu , tambah Didiek , di atas kertas dapat dimanfaatkan BI untuk meningkatkan suku bunga BI sebagai upaya mempertahankan nilai tukar rupiah . Namun demikian , Didiek pesimistis , hal itu akan tercapai mengingat kondisi bangsa masih carut marut . \" Jika keadaan terus seperti ini , tak tertutup kemungkinan , BI akan tetap memberlakukan nilai suku bunga tinggi , \" ujar Didiek . Sementara itu , The FED terpaksa menurunkan tingkat suku bunga karena pertembuhan ekonomi di negeri Paman Sam terus melemah . Padahal , selama ini , AS menjadi pasar ekspor penting untuk Indonesia . ( ICH/Fahmi Ihsan dan Donny Indradi ) .', 'clean_summary': 'Kendati Bank Sentral AS menurunkan suku bunganya , namun BI dinilai masih akan menemui masa sulit . Suku bunga Bank Sentral AS akan diturunkan menjadi empat persen .'}\n",
      "{'clean_article': 'Liputan6 . com , Jakarta : Perdana Menteri Jepang Junichiro Koizumi meminta maaf atas kekejaman tentara Jepang pada masa Perang Dunia II di Asia . Permohonan maaf secara formal itu Koizumi utarakan di depan pemimpin negara-negara Asia dan Afrika dalam Konferensi Tingkat Tinggi Asia-Afrika di Jakarta Convention Center , Jumat ( 22/4 ) . Koizumi mengatakan , pada masa silam Jepang terlalu ambisius untuk berkuasa . Ternyata , ambisi itu justru menimbulkan kerusakan dan penderitaan luar biasa bagi penduduk di sejumlah negara , terutama di Asia . \" Untuk itu Jepang minta maaf , \" kata Koizumi . Selain meminta maaf , Koizumi berharap KAA dapat membantu mempererat persahabatan antara Jepang dan negara-negara di Asia serta Afrika . Jepang , tambah Koizumi , siap memberikan sumbangan dan bantuan bagi negara-negara Asia dan Afrika yang membutuhkan . Pernyataan Koizumi membuat heran para pengamat . Menurut mereka , ini kejadian langka . Mereka menduga , pernyataan Koizumi terkait dengan makin panasnya hubungan Jepang dan Cina akhir-akhir ini . Jepang ingin meredakan ketegangan melalui negara-negara peserta KAA . Hubungan Cina-Jepang memang terus memburuk sejak Jepang menyetujui penerbitan buku pelajaran sejarah nasional Jepang , awal April 2005 . Apalagi buku itu sama sekali tak menceritakan kekejaman tentara Jepang selama masa PD II di Asia dan Pasifik . Istilah Negeri Samurai saat itu adalah Dai Toa Senso atau Perang Asia Timur Raya [ baca : Cina Menolak Meminta Maaf kepada Jepang ] . ( ICH/Tim Liputan 6 SCTV ) .', 'clean_summary': 'Pada masa silam Jepang terlalu ambisius untuk berkuasa . Ternyata , ambisi itu justru menimbulkan kerusakan dan penderitaan luar biasa bagi penduduk di sejumlah negara , terutama di Asia .'}\n"
     ]
    }
   ],
   "source": [
    "print(test[1])\n",
    "print(dev[1])\n",
    "print(train[1])"
   ]
  },
  {
   "cell_type": "code",
   "execution_count": 35,
   "metadata": {},
   "outputs": [],
   "source": [
    "def remove_spacing_before_punctuation(text):\n",
    "    # Remove spaces before commas and periods\n",
    "    text_without_spacing = re.sub(r'\\s*([,.])', r'\\1', text)\n",
    "    return text_without_spacing\n",
    "\n",
    "def clean_data(data):\n",
    "    cleaned_data = []\n",
    "    for item in data:\n",
    "        cleaned_item = {key: remove_spacing_before_punctuation(value) for key, value in item.items()}\n",
    "        # Change \"Liputan6 . com\" to \"Liputan6.com\"\n",
    "        cleaned_item['clean_article'] = cleaned_item['clean_article'].replace('Liputan6 . com', 'Liputan6.com')\n",
    "        cleaned_data.append(cleaned_item)\n",
    "    return cleaned_data"
   ]
  },
  {
   "cell_type": "code",
   "execution_count": 41,
   "metadata": {},
   "outputs": [],
   "source": [
    "cleaned_test = clean_data(test)\n",
    "cleaned_dev = clean_data(dev)\n",
    "cleaned_train = clean_data(train)"
   ]
  },
  {
   "cell_type": "code",
   "execution_count": 42,
   "metadata": {},
   "outputs": [],
   "source": [
    "df_test = pd.DataFrame(cleaned_test)\n",
    "df_dev = pd.DataFrame(cleaned_dev)\n",
    "df_train = pd.DataFrame(cleaned_train)"
   ]
  },
  {
   "cell_type": "code",
   "execution_count": 43,
   "metadata": {},
   "outputs": [
    {
     "data": {
      "text/html": [
       "<div>\n",
       "<style scoped>\n",
       "    .dataframe tbody tr th:only-of-type {\n",
       "        vertical-align: middle;\n",
       "    }\n",
       "\n",
       "    .dataframe tbody tr th {\n",
       "        vertical-align: top;\n",
       "    }\n",
       "\n",
       "    .dataframe thead th {\n",
       "        text-align: right;\n",
       "    }\n",
       "</style>\n",
       "<table border=\"1\" class=\"dataframe\">\n",
       "  <thead>\n",
       "    <tr style=\"text-align: right;\">\n",
       "      <th></th>\n",
       "      <th>clean_article</th>\n",
       "      <th>clean_summary</th>\n",
       "    </tr>\n",
       "  </thead>\n",
       "  <tbody>\n",
       "    <tr>\n",
       "      <th>0</th>\n",
       "      <td>Liputan6. com, Jakarta : Pemerintah masih memb...</td>\n",
       "      <td>Pemerintah memberikan tenggat 14 hari kepada p...</td>\n",
       "    </tr>\n",
       "    <tr>\n",
       "      <th>1</th>\n",
       "      <td>Liputan6. com, Jakarta : Diperkirakan 11 juta ...</td>\n",
       "      <td>Satu dari 20 orang Indonesia diperkirakan meng...</td>\n",
       "    </tr>\n",
       "    <tr>\n",
       "      <th>2</th>\n",
       "      <td>Liputan6. com, Banda Aceh : Aksi peledakan kan...</td>\n",
       "      <td>Peledakan bom kembali terjadi di Aceh. Kali in...</td>\n",
       "    </tr>\n",
       "    <tr>\n",
       "      <th>3</th>\n",
       "      <td>Liputan6. com, Surabaya : Petugas Kepolisian R...</td>\n",
       "      <td>Polres Surabaya Timur menangkap seorang penged...</td>\n",
       "    </tr>\n",
       "    <tr>\n",
       "      <th>4</th>\n",
       "      <td>Liputan6. com, Jakarta : Yogyakarta dan Bali m...</td>\n",
       "      <td>Lima seniman Yogyakarta dan Bali menggelar pam...</td>\n",
       "    </tr>\n",
       "  </tbody>\n",
       "</table>\n",
       "</div>"
      ],
      "text/plain": [
       "                                       clean_article  \\\n",
       "0  Liputan6. com, Jakarta : Pemerintah masih memb...   \n",
       "1  Liputan6. com, Jakarta : Diperkirakan 11 juta ...   \n",
       "2  Liputan6. com, Banda Aceh : Aksi peledakan kan...   \n",
       "3  Liputan6. com, Surabaya : Petugas Kepolisian R...   \n",
       "4  Liputan6. com, Jakarta : Yogyakarta dan Bali m...   \n",
       "\n",
       "                                       clean_summary  \n",
       "0  Pemerintah memberikan tenggat 14 hari kepada p...  \n",
       "1  Satu dari 20 orang Indonesia diperkirakan meng...  \n",
       "2  Peledakan bom kembali terjadi di Aceh. Kali in...  \n",
       "3  Polres Surabaya Timur menangkap seorang penged...  \n",
       "4  Lima seniman Yogyakarta dan Bali menggelar pam...  "
      ]
     },
     "metadata": {},
     "output_type": "display_data"
    },
    {
     "data": {
      "text/html": [
       "<div>\n",
       "<style scoped>\n",
       "    .dataframe tbody tr th:only-of-type {\n",
       "        vertical-align: middle;\n",
       "    }\n",
       "\n",
       "    .dataframe tbody tr th {\n",
       "        vertical-align: top;\n",
       "    }\n",
       "\n",
       "    .dataframe thead th {\n",
       "        text-align: right;\n",
       "    }\n",
       "</style>\n",
       "<table border=\"1\" class=\"dataframe\">\n",
       "  <thead>\n",
       "    <tr style=\"text-align: right;\">\n",
       "      <th></th>\n",
       "      <th>clean_article</th>\n",
       "      <th>clean_summary</th>\n",
       "    </tr>\n",
       "  </thead>\n",
       "  <tbody>\n",
       "    <tr>\n",
       "      <th>0</th>\n",
       "      <td>Liputan6. com, Jakarta : Kepolisian Daerah Ria...</td>\n",
       "      <td>Kapolda Riau baru Brigjen Pol. Johny Yodjana b...</td>\n",
       "    </tr>\n",
       "    <tr>\n",
       "      <th>1</th>\n",
       "      <td>Liputan6. com, Jakarta : Bank Indonesia dinila...</td>\n",
       "      <td>Kendati Bank Sentral AS menurunkan suku bungan...</td>\n",
       "    </tr>\n",
       "    <tr>\n",
       "      <th>2</th>\n",
       "      <td>Liputan6. com, Jakarta : Berbagai kendala meng...</td>\n",
       "      <td>Pemerintah bermaksud akan lebih mengandalkan s...</td>\n",
       "    </tr>\n",
       "    <tr>\n",
       "      <th>3</th>\n",
       "      <td>Liputan6. com, Jakarta : Penghapusan beberapa ...</td>\n",
       "      <td>Revisi Kepmennaker Nomor 78 Tahun 2001, dinila...</td>\n",
       "    </tr>\n",
       "    <tr>\n",
       "      <th>4</th>\n",
       "      <td>Liputan6. com, Jakarta : Operasi Sadar Jaya ya...</td>\n",
       "      <td>Polisi menangkap 32 pengunjung Diskotik Mileni...</td>\n",
       "    </tr>\n",
       "  </tbody>\n",
       "</table>\n",
       "</div>"
      ],
      "text/plain": [
       "                                       clean_article  \\\n",
       "0  Liputan6. com, Jakarta : Kepolisian Daerah Ria...   \n",
       "1  Liputan6. com, Jakarta : Bank Indonesia dinila...   \n",
       "2  Liputan6. com, Jakarta : Berbagai kendala meng...   \n",
       "3  Liputan6. com, Jakarta : Penghapusan beberapa ...   \n",
       "4  Liputan6. com, Jakarta : Operasi Sadar Jaya ya...   \n",
       "\n",
       "                                       clean_summary  \n",
       "0  Kapolda Riau baru Brigjen Pol. Johny Yodjana b...  \n",
       "1  Kendati Bank Sentral AS menurunkan suku bungan...  \n",
       "2  Pemerintah bermaksud akan lebih mengandalkan s...  \n",
       "3  Revisi Kepmennaker Nomor 78 Tahun 2001, dinila...  \n",
       "4  Polisi menangkap 32 pengunjung Diskotik Mileni...  "
      ]
     },
     "metadata": {},
     "output_type": "display_data"
    },
    {
     "data": {
      "text/html": [
       "<div>\n",
       "<style scoped>\n",
       "    .dataframe tbody tr th:only-of-type {\n",
       "        vertical-align: middle;\n",
       "    }\n",
       "\n",
       "    .dataframe tbody tr th {\n",
       "        vertical-align: top;\n",
       "    }\n",
       "\n",
       "    .dataframe thead th {\n",
       "        text-align: right;\n",
       "    }\n",
       "</style>\n",
       "<table border=\"1\" class=\"dataframe\">\n",
       "  <thead>\n",
       "    <tr style=\"text-align: right;\">\n",
       "      <th></th>\n",
       "      <th>clean_article</th>\n",
       "      <th>clean_summary</th>\n",
       "    </tr>\n",
       "  </thead>\n",
       "  <tbody>\n",
       "    <tr>\n",
       "      <th>0</th>\n",
       "      <td>Liputan6. com, Jakarta : Presiden Susilo Bamba...</td>\n",
       "      <td>Menurut Presiden Susilo Bambang Yudhoyono, kem...</td>\n",
       "    </tr>\n",
       "    <tr>\n",
       "      <th>1</th>\n",
       "      <td>Liputan6. com, Jakarta : Perdana Menteri Jepan...</td>\n",
       "      <td>Pada masa silam Jepang terlalu ambisius untuk ...</td>\n",
       "    </tr>\n",
       "    <tr>\n",
       "      <th>2</th>\n",
       "      <td>Liputan6. com, Kutai : Banjir dengan ketinggia...</td>\n",
       "      <td>Puluhan hektare areal persawahan yang sebagian...</td>\n",
       "    </tr>\n",
       "    <tr>\n",
       "      <th>3</th>\n",
       "      <td>Liputan6. com, Jakarta : Presiden Susilo Bamba...</td>\n",
       "      <td>Sekjen PBB Kofi Annan memuji langkah Presiden ...</td>\n",
       "    </tr>\n",
       "    <tr>\n",
       "      <th>4</th>\n",
       "      <td>Liputan6. com, Solok : Warga Kampung Batu Dala...</td>\n",
       "      <td>Untuk mempercepat pelaksanaan belajar-mengajar...</td>\n",
       "    </tr>\n",
       "  </tbody>\n",
       "</table>\n",
       "</div>"
      ],
      "text/plain": [
       "                                       clean_article  \\\n",
       "0  Liputan6. com, Jakarta : Presiden Susilo Bamba...   \n",
       "1  Liputan6. com, Jakarta : Perdana Menteri Jepan...   \n",
       "2  Liputan6. com, Kutai : Banjir dengan ketinggia...   \n",
       "3  Liputan6. com, Jakarta : Presiden Susilo Bamba...   \n",
       "4  Liputan6. com, Solok : Warga Kampung Batu Dala...   \n",
       "\n",
       "                                       clean_summary  \n",
       "0  Menurut Presiden Susilo Bambang Yudhoyono, kem...  \n",
       "1  Pada masa silam Jepang terlalu ambisius untuk ...  \n",
       "2  Puluhan hektare areal persawahan yang sebagian...  \n",
       "3  Sekjen PBB Kofi Annan memuji langkah Presiden ...  \n",
       "4  Untuk mempercepat pelaksanaan belajar-mengajar...  "
      ]
     },
     "metadata": {},
     "output_type": "display_data"
    }
   ],
   "source": [
    "display(df_test.head())\n",
    "display(df_dev.head())\n",
    "display(df_train.head())"
   ]
  },
  {
   "cell_type": "code",
   "execution_count": 44,
   "metadata": {},
   "outputs": [],
   "source": [
    "df_test.to_csv('./df_test.csv')\n",
    "df_dev.to_csv('./df_dev.csv')\n",
    "df_train.to_csv('./df_train.csv')"
   ]
  },
  {
   "cell_type": "code",
   "execution_count": null,
   "metadata": {},
   "outputs": [],
   "source": []
  }
 ],
 "metadata": {
  "kernelspec": {
   "display_name": "Python 3",
   "language": "python",
   "name": "python3"
  },
  "language_info": {
   "codemirror_mode": {
    "name": "ipython",
    "version": 3
   },
   "file_extension": ".py",
   "mimetype": "text/x-python",
   "name": "python",
   "nbconvert_exporter": "python",
   "pygments_lexer": "ipython3",
   "version": "3.10.11"
  }
 },
 "nbformat": 4,
 "nbformat_minor": 2
}
